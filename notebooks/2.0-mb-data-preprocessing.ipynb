{
 "cells": [
  {
   "cell_type": "code",
   "execution_count": 2,
   "id": "supposed-accessory",
   "metadata": {},
   "outputs": [],
   "source": [
    "from PIL import Image \n",
    "import os  \n",
    "import pickle \n",
    "import numpy as np "
   ]
  },
  {
   "cell_type": "code",
   "execution_count": 3,
   "id": "powerful-noise",
   "metadata": {},
   "outputs": [],
   "source": [
    "dst_path = os.path.join(os.path.abspath(os.path.join(os.path.abspath(os.curdir), os.pardir)), 'data', 'raw')"
   ]
  },
  {
   "cell_type": "code",
   "execution_count": 4,
   "id": "realistic-watch",
   "metadata": {},
   "outputs": [
    {
     "data": {
      "text/plain": [
       "'/media/migbernardo/Data/nova_ims/dl/dl_project/data/raw'"
      ]
     },
     "execution_count": 4,
     "metadata": {},
     "output_type": "execute_result"
    }
   ],
   "source": [
    "dst_path"
   ]
  },
  {
   "cell_type": "markdown",
   "id": "efficient-stuart",
   "metadata": {},
   "source": [
    "Function that joins all images with the respective labels into a tuple of tensors (img, labels)\n",
    "\n",
    "- img tensor dimensions: (num_images, 64, 64, 3) \n",
    "\n",
    "- labels tensor dimensions: (num_images, 10)"
   ]
  },
  {
   "cell_type": "code",
   "execution_count": 5,
   "id": "professional-education",
   "metadata": {},
   "outputs": [],
   "source": [
    "def data_gen(src_path, size):   \n",
    "    \n",
    "    num_img = 0  \n",
    "    count_index = 0 \n",
    "    # save list of labels corresponding to each dir's name\n",
    "    labels = os.listdir(path=src_path) \n",
    "    labels.sort() \n",
    "    # go through each lab/dir and add number of images inside to num_img\n",
    "    for i in labels: \n",
    "        num_img += len(os.listdir(path=os.path.join(src_path, i)))\n",
    "    \n",
    "    # initialize arrays filled with zeros corresponding to the output dimensions of the images and its labels\n",
    "    X = np.zeros(shape=[num_img,size,size,3])\n",
    "    y = np.zeros(shape=[num_img,len(labels)]) \n",
    "    \n",
    "    # go through labels, save the path to its corresponding dir, and save the number of images inside\n",
    "    for index, label in enumerate(labels): \n",
    "        cur_path = os.path.join(src_path, label)  \n",
    "        n_img = len(os.listdir(path=cur_path))  \n",
    "\n",
    "        # open each image, convert into array, and add data and labels to the corresponding X and y arrays\n",
    "        for i in range(1, n_img + 1):   \n",
    "            count_index += 1\n",
    "            img = Image.open(os.path.join(cur_path, labels[index] + '_{}.jpg'.format(i))) \n",
    "            img_arr = np.array(img)  \n",
    "            label_arr = np.zeros(len(labels)) \n",
    "            np.put(label_arr, index, 1)\n",
    "            X[count_index-1][:64][:64][:64] = img_arr  \n",
    "            y[count_index-1] = label_arr  \n",
    "            \n",
    "    # return tensor tuple        \n",
    "    return (X, y)"
   ]
  },
  {
   "cell_type": "markdown",
   "id": "canadian-mexico",
   "metadata": {},
   "source": [
    "Test function and load some data points"
   ]
  },
  {
   "cell_type": "code",
   "execution_count": 6,
   "id": "divided-punch",
   "metadata": {},
   "outputs": [],
   "source": [
    "data = data_gen(dst_path, 64)"
   ]
  },
  {
   "cell_type": "code",
   "execution_count": 7,
   "id": "overall-nothing",
   "metadata": {},
   "outputs": [
    {
     "data": {
      "text/plain": [
       "(27000, 64, 64, 3)"
      ]
     },
     "execution_count": 7,
     "metadata": {},
     "output_type": "execute_result"
    }
   ],
   "source": [
    "data[0].shape"
   ]
  },
  {
   "cell_type": "code",
   "execution_count": 8,
   "id": "rubber-payment",
   "metadata": {},
   "outputs": [
    {
     "data": {
      "text/plain": [
       "(27000, 10)"
      ]
     },
     "execution_count": 8,
     "metadata": {},
     "output_type": "execute_result"
    }
   ],
   "source": [
    "data[1].shape"
   ]
  },
  {
   "cell_type": "code",
   "execution_count": 9,
   "id": "designed-belly",
   "metadata": {},
   "outputs": [
    {
     "data": {
      "text/plain": [
       "array([1., 0., 0., 0., 0., 0., 0., 0., 0., 0.])"
      ]
     },
     "execution_count": 9,
     "metadata": {},
     "output_type": "execute_result"
    }
   ],
   "source": [
    "data[1][0]"
   ]
  },
  {
   "cell_type": "code",
   "execution_count": 10,
   "id": "finnish-wisconsin",
   "metadata": {},
   "outputs": [
    {
     "data": {
      "text/plain": [
       "array([[[149., 121., 120.],\n",
       "        [147., 121., 120.],\n",
       "        [146., 120., 119.],\n",
       "        ...,\n",
       "        [102.,  90., 100.],\n",
       "        [104.,  92., 102.],\n",
       "        [103.,  91., 101.]],\n",
       "\n",
       "       [[149., 121., 120.],\n",
       "        [149., 121., 120.],\n",
       "        [149., 119., 119.],\n",
       "        ...,\n",
       "        [102.,  90., 100.],\n",
       "        [104.,  92., 102.],\n",
       "        [103.,  91., 101.]],\n",
       "\n",
       "       [[143., 117., 116.],\n",
       "        [144., 115., 117.],\n",
       "        [147., 116., 121.],\n",
       "        ...,\n",
       "        [102.,  92., 101.],\n",
       "        [102.,  90., 100.],\n",
       "        [103.,  91., 101.]],\n",
       "\n",
       "       ...,\n",
       "\n",
       "       [[141., 117., 115.],\n",
       "        [141., 117., 117.],\n",
       "        [137., 117., 118.],\n",
       "        ...,\n",
       "        [103.,  93., 102.],\n",
       "        [100.,  90., 101.],\n",
       "        [101.,  90., 104.]],\n",
       "\n",
       "       [[130., 111., 113.],\n",
       "        [132., 112., 114.],\n",
       "        [129., 110., 116.],\n",
       "        ...,\n",
       "        [105.,  94., 102.],\n",
       "        [105.,  93., 103.],\n",
       "        [107.,  95., 107.]],\n",
       "\n",
       "       [[122., 106., 109.],\n",
       "        [122., 105., 111.],\n",
       "        [120., 103., 111.],\n",
       "        ...,\n",
       "        [106.,  95., 103.],\n",
       "        [106.,  95., 103.],\n",
       "        [107.,  95., 105.]]])"
      ]
     },
     "execution_count": 10,
     "metadata": {},
     "output_type": "execute_result"
    }
   ],
   "source": [
    "data[0][0]"
   ]
  },
  {
   "cell_type": "code",
   "execution_count": 11,
   "id": "pharmaceutical-founder",
   "metadata": {},
   "outputs": [
    {
     "data": {
      "text/plain": [
       "array([0., 1., 0., 0., 0., 0., 0., 0., 0., 0.])"
      ]
     },
     "execution_count": 11,
     "metadata": {},
     "output_type": "execute_result"
    }
   ],
   "source": [
    "data[1][3000]"
   ]
  },
  {
   "cell_type": "code",
   "execution_count": 12,
   "id": "fitted-enforcement",
   "metadata": {
    "scrolled": true
   },
   "outputs": [
    {
     "data": {
      "text/plain": [
       "array([[[40., 63., 81.],\n",
       "        [41., 62., 79.],\n",
       "        [42., 63., 80.],\n",
       "        ...,\n",
       "        [34., 57., 75.],\n",
       "        [37., 58., 77.],\n",
       "        [39., 57., 77.]],\n",
       "\n",
       "       [[40., 63., 79.],\n",
       "        [39., 62., 78.],\n",
       "        [40., 63., 79.],\n",
       "        ...,\n",
       "        [35., 56., 75.],\n",
       "        [37., 58., 77.],\n",
       "        [37., 58., 77.]],\n",
       "\n",
       "       [[41., 64., 78.],\n",
       "        [40., 63., 79.],\n",
       "        [39., 62., 78.],\n",
       "        ...,\n",
       "        [38., 56., 78.],\n",
       "        [37., 58., 77.],\n",
       "        [37., 58., 77.]],\n",
       "\n",
       "       ...,\n",
       "\n",
       "       [[38., 60., 74.],\n",
       "        [38., 59., 76.],\n",
       "        [37., 58., 75.],\n",
       "        ...,\n",
       "        [34., 60., 75.],\n",
       "        [37., 60., 78.],\n",
       "        [37., 58., 77.]],\n",
       "\n",
       "       [[35., 56., 73.],\n",
       "        [35., 56., 73.],\n",
       "        [40., 63., 79.],\n",
       "        ...,\n",
       "        [37., 60., 76.],\n",
       "        [40., 63., 79.],\n",
       "        [37., 58., 77.]],\n",
       "\n",
       "       [[33., 56., 74.],\n",
       "        [33., 56., 72.],\n",
       "        [41., 64., 78.],\n",
       "        ...,\n",
       "        [35., 58., 74.],\n",
       "        [36., 59., 75.],\n",
       "        [35., 56., 75.]]])"
      ]
     },
     "execution_count": 12,
     "metadata": {},
     "output_type": "execute_result"
    }
   ],
   "source": [
    "data[0][3000]"
   ]
  },
  {
   "cell_type": "code",
   "execution_count": 13,
   "id": "appreciated-senior",
   "metadata": {},
   "outputs": [
    {
     "data": {
      "text/plain": [
       "array([0., 0., 1., 0., 0., 0., 0., 0., 0., 0.])"
      ]
     },
     "execution_count": 13,
     "metadata": {},
     "output_type": "execute_result"
    }
   ],
   "source": [
    "data[1][6000]"
   ]
  },
  {
   "cell_type": "code",
   "execution_count": 14,
   "id": "sexual-bicycle",
   "metadata": {},
   "outputs": [
    {
     "data": {
      "text/plain": [
       "array([[[146., 115., 121.],\n",
       "        [143., 116., 123.],\n",
       "        [139., 114., 120.],\n",
       "        ...,\n",
       "        [ 87.,  75.,  87.],\n",
       "        [ 88.,  77.,  91.],\n",
       "        [ 83.,  76.,  94.]],\n",
       "\n",
       "       [[149., 115., 116.],\n",
       "        [146., 115., 120.],\n",
       "        [142., 113., 118.],\n",
       "        ...,\n",
       "        [ 86.,  75.,  89.],\n",
       "        [ 88.,  77.,  91.],\n",
       "        [ 86.,  75.,  92.]],\n",
       "\n",
       "       [[169., 129., 129.],\n",
       "        [165., 129., 131.],\n",
       "        [161., 126., 130.],\n",
       "        ...,\n",
       "        [ 79.,  71.,  86.],\n",
       "        [ 86.,  75.,  91.],\n",
       "        [ 88.,  75.,  92.]],\n",
       "\n",
       "       ...,\n",
       "\n",
       "       [[187., 144., 137.],\n",
       "        [187., 144., 138.],\n",
       "        [185., 142., 136.],\n",
       "        ...,\n",
       "        [ 92.,  84.,  97.],\n",
       "        [ 86.,  78.,  93.],\n",
       "        [ 80.,  69.,  86.]],\n",
       "\n",
       "       [[189., 146., 140.],\n",
       "        [188., 144., 141.],\n",
       "        [186., 142., 139.],\n",
       "        ...,\n",
       "        [ 88.,  77.,  91.],\n",
       "        [ 95.,  83.,  97.],\n",
       "        [ 89.,  75.,  90.]],\n",
       "\n",
       "       [[185., 141., 138.],\n",
       "        [185., 141., 140.],\n",
       "        [185., 141., 142.],\n",
       "        ...,\n",
       "        [ 82.,  69.,  86.],\n",
       "        [ 88.,  74.,  89.],\n",
       "        [ 95.,  81.,  94.]]])"
      ]
     },
     "execution_count": 14,
     "metadata": {},
     "output_type": "execute_result"
    }
   ],
   "source": [
    "data[0][6000]"
   ]
  },
  {
   "cell_type": "code",
   "execution_count": 15,
   "id": "geological-assets",
   "metadata": {},
   "outputs": [
    {
     "data": {
      "text/plain": [
       "array([0., 0., 0., 0., 0., 0., 0., 0., 0., 1.])"
      ]
     },
     "execution_count": 15,
     "metadata": {},
     "output_type": "execute_result"
    }
   ],
   "source": [
    "data[1][-1]"
   ]
  },
  {
   "cell_type": "code",
   "execution_count": 16,
   "id": "phantom-vermont",
   "metadata": {
    "scrolled": true
   },
   "outputs": [
    {
     "data": {
      "text/plain": [
       "array([[[33., 53., 77.],\n",
       "        [33., 53., 77.],\n",
       "        [31., 53., 74.],\n",
       "        ...,\n",
       "        [33., 56., 74.],\n",
       "        [32., 55., 73.],\n",
       "        [33., 56., 74.]],\n",
       "\n",
       "       [[33., 54., 75.],\n",
       "        [33., 54., 75.],\n",
       "        [31., 53., 74.],\n",
       "        ...,\n",
       "        [33., 56., 74.],\n",
       "        [32., 54., 75.],\n",
       "        [32., 54., 75.]],\n",
       "\n",
       "       [[31., 53., 74.],\n",
       "        [31., 53., 74.],\n",
       "        [32., 54., 75.],\n",
       "        ...,\n",
       "        [32., 55., 73.],\n",
       "        [33., 55., 76.],\n",
       "        [32., 53., 74.]],\n",
       "\n",
       "       ...,\n",
       "\n",
       "       [[31., 54., 72.],\n",
       "        [31., 53., 74.],\n",
       "        [31., 53., 74.],\n",
       "        ...,\n",
       "        [32., 55., 73.],\n",
       "        [32., 55., 73.],\n",
       "        [32., 55., 73.]],\n",
       "\n",
       "       [[29., 55., 72.],\n",
       "        [29., 54., 74.],\n",
       "        [31., 53., 74.],\n",
       "        ...,\n",
       "        [31., 54., 72.],\n",
       "        [32., 55., 73.],\n",
       "        [32., 54., 75.]],\n",
       "\n",
       "       [[28., 55., 72.],\n",
       "        [28., 55., 72.],\n",
       "        [29., 54., 74.],\n",
       "        ...,\n",
       "        [32., 55., 73.],\n",
       "        [32., 55., 73.],\n",
       "        [32., 54., 75.]]])"
      ]
     },
     "execution_count": 16,
     "metadata": {},
     "output_type": "execute_result"
    }
   ],
   "source": [
    "data[0][-1]"
   ]
  },
  {
   "cell_type": "markdown",
   "id": "velvet-township",
   "metadata": {},
   "source": [
    "Save and load data in pickle format for later use"
   ]
  },
  {
   "cell_type": "code",
   "execution_count": 17,
   "id": "amateur-jurisdiction",
   "metadata": {},
   "outputs": [],
   "source": [
    "with open('X.pickle', 'wb') as f: \n",
    "    pickle.dump(data[0], f)"
   ]
  },
  {
   "cell_type": "code",
   "execution_count": 18,
   "id": "instrumental-military",
   "metadata": {},
   "outputs": [],
   "source": [
    "with open('y.pickle', 'wb') as f: \n",
    "    pickle.dump(data[1], f)"
   ]
  },
  {
   "cell_type": "code",
   "execution_count": 19,
   "id": "effective-creation",
   "metadata": {},
   "outputs": [],
   "source": [
    "with open('X.pickle', 'rb') as f: \n",
    "    X = pickle.load(f)"
   ]
  },
  {
   "cell_type": "code",
   "execution_count": 20,
   "id": "strange-education",
   "metadata": {},
   "outputs": [
    {
     "data": {
      "text/plain": [
       "(27000, 64, 64, 3)"
      ]
     },
     "execution_count": 20,
     "metadata": {},
     "output_type": "execute_result"
    }
   ],
   "source": [
    "X.shape"
   ]
  },
  {
   "cell_type": "code",
   "execution_count": 23,
   "id": "armed-coverage",
   "metadata": {},
   "outputs": [],
   "source": [
    "with open('y.pickle', 'rb') as f: \n",
    "    y = pickle.load(f)"
   ]
  },
  {
   "cell_type": "code",
   "execution_count": 24,
   "id": "excess-celebration",
   "metadata": {},
   "outputs": [
    {
     "data": {
      "text/plain": [
       "(27000, 10)"
      ]
     },
     "execution_count": 24,
     "metadata": {},
     "output_type": "execute_result"
    }
   ],
   "source": [
    "y.shape"
   ]
  }
 ],
 "metadata": {
  "kernelspec": {
   "display_name": "Python 3",
   "language": "python",
   "name": "python3"
  },
  "language_info": {
   "codemirror_mode": {
    "name": "ipython",
    "version": 3
   },
   "file_extension": ".py",
   "mimetype": "text/x-python",
   "name": "python",
   "nbconvert_exporter": "python",
   "pygments_lexer": "ipython3",
   "version": "3.9.7"
  }
 },
 "nbformat": 4,
 "nbformat_minor": 5
}
