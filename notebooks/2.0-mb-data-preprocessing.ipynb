{
 "cells": [
  {
   "cell_type": "code",
   "execution_count": 2,
   "id": "supposed-accessory",
   "metadata": {},
   "outputs": [],
   "source": [
    "from PIL import Image \n",
    "import os  \n",
    "import pickle \n",
    "import numpy as np "
   ]
  },
  {
   "cell_type": "code",
   "execution_count": 3,
   "id": "powerful-noise",
   "metadata": {},
   "outputs": [],
   "source": [
    "dst_path = os.path.join(os.path.abspath(os.path.join(os.path.abspath(os.curdir), os.pardir)), 'data', 'raw')"
   ]
  },
  {
   "cell_type": "code",
   "execution_count": 4,
   "id": "realistic-watch",
   "metadata": {},
   "outputs": [
    {
     "data": {
      "text/plain": [
       "'/media/migbernardo/Data/nova_ims/dl/dl_project/data/raw'"
      ]
     },
     "execution_count": 4,
     "metadata": {},
     "output_type": "execute_result"
    }
   ],
   "source": [
    "dst_path"
   ]
  },
  {
   "cell_type": "markdown",
   "id": "efficient-stuart",
   "metadata": {},
   "source": [
    "Function that joins all images with the respective labels into a tuple of tensors (img, labels)\n",
    "\n",
    "- img tensor dimensions: (num_images, 64, 64, 3) \n",
    "\n",
    "- labels tensor dimensions: (num_images, 10)"
   ]
  },
  {
   "cell_type": "code",
   "execution_count": 5,
   "id": "professional-education",
   "metadata": {},
   "outputs": [],
   "source": [
    "def data_gen(src_path, size):   \n",
    "    \n",
    "    num_img = 0 \n",
    "    train_count = 0 \n",
    "    val_count = 0 \n",
    "    test_count = 0\n",
    "    # save list of labels corresponding to each dir's name\n",
    "    labels = os.listdir(path=src_path) \n",
    "    labels.sort() \n",
    "    # go through each lab/dir and add number of images inside to num_img\n",
    "    for i in labels: \n",
    "        num_img += len(os.listdir(path=os.path.join(src_path, i)))\n",
    "    \n",
    "    # initialize arrays filled with zeros corresponding to the output dimensions of the images and its labels\n",
    "    X_train = np.zeros(shape=[int(num_img*0.6),size,size,3])\n",
    "    y_train = np.zeros(shape=[int(num_img*0.6),len(labels)])  \n",
    "    X_val = np.zeros(shape=[int(num_img*0.2),size,size,3])\n",
    "    y_val = np.zeros(shape=[int(num_img*0.2),len(labels)]) \n",
    "    X_test = np.zeros(shape=[int(num_img*0.2),size,size,3]) \n",
    "    y_test = np.zeros(shape=[int(num_img*0.2),len(labels)])\n",
    "    \n",
    "    # go through labels, save the path to its corresponding dir, and save the number of images inside\n",
    "    for index, label in enumerate(labels): \n",
    "        cur_path = os.path.join(src_path, label)  \n",
    "        n_img = len(os.listdir(path=cur_path))   \n",
    "\n",
    "        # open each image, convert into array, and add data and labels to the corresponding split arrays\n",
    "        for i in range(1, n_img + 1): \n",
    "            if i <= int(n_img * 0.6):\n",
    "                train_count += 1\n",
    "                img = Image.open(os.path.join(cur_path, labels[index] + '_{}.jpg'.format(i))) \n",
    "                img_arr = np.array(img)  \n",
    "                label_arr = np.zeros(len(labels)) \n",
    "                np.put(label_arr, index, 1)\n",
    "                X_train[train_count-1][:size][:size][:size] = img_arr  \n",
    "                y_train[train_count-1] = label_arr   \n",
    "                \n",
    "            elif i <= int(n_img * 0.8):  \n",
    "                val_count += 1\n",
    "                img = Image.open(os.path.join(cur_path, labels[index] + '_{}.jpg'.format(i))) \n",
    "                img_arr = np.array(img)  \n",
    "                label_arr = np.zeros(len(labels)) \n",
    "                np.put(label_arr, index, 1)\n",
    "                X_val[val_count-1][:size][:size][:size] = img_arr  \n",
    "                y_val[val_count-1] = label_arr \n",
    "                \n",
    "            else: \n",
    "                test_count += 1\n",
    "                img = Image.open(os.path.join(cur_path, labels[index] + '_{}.jpg'.format(i))) \n",
    "                img_arr = np.array(img)  \n",
    "                label_arr = np.zeros(len(labels)) \n",
    "                np.put(label_arr, index, 1)\n",
    "                X_test[test_count-1][:size][:size][:size] = img_arr  \n",
    "                y_test[test_count-1] = label_arr \n",
    "    \n",
    "    # return list of tensor tuples       \n",
    "    return [(X_train, y_train), (X_val, y_val), (X_test, y_test)]"
   ]
  },
  {
   "cell_type": "markdown",
   "id": "canadian-mexico",
   "metadata": {},
   "source": [
    "Test function and load some data points"
   ]
  },
  {
   "cell_type": "code",
   "execution_count": 6,
   "id": "divided-punch",
   "metadata": {},
   "outputs": [],
   "source": [
    "data = data_gen(dst_path, 64)"
   ]
  },
  {
   "cell_type": "code",
   "execution_count": 7,
   "id": "southern-superintendent",
   "metadata": {},
   "outputs": [
    {
     "data": {
      "text/plain": [
       "array([1., 0., 0., 0., 0., 0., 0., 0., 0., 0.])"
      ]
     },
     "execution_count": 7,
     "metadata": {},
     "output_type": "execute_result"
    }
   ],
   "source": [
    "data[2][1][0]"
   ]
  },
  {
   "cell_type": "code",
   "execution_count": 8,
   "id": "annual-hearts",
   "metadata": {},
   "outputs": [
    {
     "data": {
      "text/plain": [
       "array([0., 0., 0., 0., 0., 0., 0., 0., 0., 1.])"
      ]
     },
     "execution_count": 8,
     "metadata": {},
     "output_type": "execute_result"
    }
   ],
   "source": [
    "data[1][1][-1]"
   ]
  },
  {
   "cell_type": "code",
   "execution_count": 18,
   "id": "elegant-complexity",
   "metadata": {},
   "outputs": [
    {
     "data": {
      "text/plain": [
       "array([0., 0., 0., 0., 0., 0., 0., 0., 0., 1.])"
      ]
     },
     "execution_count": 18,
     "metadata": {},
     "output_type": "execute_result"
    }
   ],
   "source": [
    "data[2][1][-1]"
   ]
  },
  {
   "cell_type": "code",
   "execution_count": 9,
   "id": "arbitrary-geometry",
   "metadata": {},
   "outputs": [
    {
     "data": {
      "text/plain": [
       "(5400, 64, 64, 3)"
      ]
     },
     "execution_count": 9,
     "metadata": {},
     "output_type": "execute_result"
    }
   ],
   "source": [
    "data[2][0].shape"
   ]
  },
  {
   "cell_type": "markdown",
   "id": "velvet-township",
   "metadata": {},
   "source": [
    "Save and load data in pickle format for later use"
   ]
  },
  {
   "cell_type": "code",
   "execution_count": 10,
   "id": "proper-airfare",
   "metadata": {},
   "outputs": [],
   "source": [
    "with open('X_train.pickle', 'wb') as f: \n",
    "    pickle.dump(data[0][0], f) "
   ]
  },
  {
   "cell_type": "code",
   "execution_count": 11,
   "id": "legitimate-sense",
   "metadata": {},
   "outputs": [],
   "source": [
    "with open('y_train.pickle', 'wb') as f: \n",
    "    pickle.dump(data[0][1], f) "
   ]
  },
  {
   "cell_type": "code",
   "execution_count": 12,
   "id": "european-string",
   "metadata": {},
   "outputs": [],
   "source": [
    "with open('X_val.pickle', 'wb') as f: \n",
    "    pickle.dump(data[1][0], f) "
   ]
  },
  {
   "cell_type": "code",
   "execution_count": 13,
   "id": "promotional-arthritis",
   "metadata": {},
   "outputs": [],
   "source": [
    "with open('y_val.pickle', 'wb') as f: \n",
    "    pickle.dump(data[1][1], f) "
   ]
  },
  {
   "cell_type": "code",
   "execution_count": 14,
   "id": "downtown-vehicle",
   "metadata": {},
   "outputs": [],
   "source": [
    "with open('X_test.pickle', 'wb') as f: \n",
    "    pickle.dump(data[2][0], f) "
   ]
  },
  {
   "cell_type": "code",
   "execution_count": 19,
   "id": "peaceful-thong",
   "metadata": {},
   "outputs": [],
   "source": [
    "with open('y_test.pickle', 'wb') as f: \n",
    "    pickle.dump(data[2][1], f)"
   ]
  },
  {
   "cell_type": "code",
   "execution_count": 19,
   "id": "effective-creation",
   "metadata": {},
   "outputs": [],
   "source": [
    "with open('name', 'rb') as f: \n",
    "    var = pickle.load(f)"
   ]
  }
 ],
 "metadata": {
  "kernelspec": {
   "display_name": "Python 3",
   "language": "python",
   "name": "python3"
  },
  "language_info": {
   "codemirror_mode": {
    "name": "ipython",
    "version": 3
   },
   "file_extension": ".py",
   "mimetype": "text/x-python",
   "name": "python",
   "nbconvert_exporter": "python",
   "pygments_lexer": "ipython3",
   "version": "3.9.7"
  }
 },
 "nbformat": 4,
 "nbformat_minor": 5
}
