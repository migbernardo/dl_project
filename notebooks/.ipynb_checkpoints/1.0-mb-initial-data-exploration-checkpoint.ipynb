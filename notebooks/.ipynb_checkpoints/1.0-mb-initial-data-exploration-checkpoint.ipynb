{
 "cells": [
  {
   "cell_type": "code",
   "execution_count": 1,
   "id": "black-ivory",
   "metadata": {
    "scrolled": true
   },
   "outputs": [],
   "source": [
    "#!pip install Pillow"
   ]
  },
  {
   "cell_type": "code",
   "execution_count": 2,
   "id": "sticky-recorder",
   "metadata": {},
   "outputs": [],
   "source": [
    "from urllib import request \n",
    "from zipfile import ZipFile \n",
    "from PIL import Image  \n",
    "import os \n",
    "import numpy as np \n",
    "import tensorflow as tf \n",
    "import keras"
   ]
  },
  {
   "cell_type": "code",
   "execution_count": 5,
   "id": "12324012",
   "metadata": {},
   "outputs": [],
   "source": [
    "ROOT_DIR = os.path.abspath(os.curdir)"
   ]
  },
  {
   "cell_type": "code",
   "execution_count": 54,
   "id": "fiscal-halloween",
   "metadata": {},
   "outputs": [],
   "source": [
    "request.urlretrieve('https://madm.dfki.de/files/sentinel/EuroSAT.zip', 'EuroSAT.zip')\n",
    "with ZipFile(os.path.join(ROOT_DIR, 'EuroSAT.zip')) as f: \n",
    "    f.extractall(ROOT_DIR)  \n",
    "os.remove(os.path.join(ROOT_DIR, 'EuroSAT.zip'))\n",
    "os.rename(os.path.join(ROOT_DIR, '2750'), os.path.join(ROOT_DIR, 'raw'))"
   ]
  },
  {
   "cell_type": "code",
   "execution_count": 55,
   "id": "completed-increase",
   "metadata": {},
   "outputs": [],
   "source": [
    "path = os.path.join(os.getcwd(), 'raw')"
   ]
  },
  {
   "cell_type": "code",
   "execution_count": 59,
   "id": "mexican-uncle",
   "metadata": {},
   "outputs": [
    {
     "data": {
      "text/plain": [
       "['PermanentCrop',\n",
       " 'Residential',\n",
       " 'HerbaceousVegetation',\n",
       " 'Highway',\n",
       " 'River',\n",
       " 'AnnualCrop',\n",
       " 'Forest',\n",
       " 'Industrial',\n",
       " 'Pasture',\n",
       " 'SeaLake']"
      ]
     },
     "execution_count": 59,
     "metadata": {},
     "output_type": "execute_result"
    }
   ],
   "source": [
    "os.listdir(path)"
   ]
  },
  {
   "cell_type": "code",
   "execution_count": 4,
   "id": "framed-nigeria",
   "metadata": {},
   "outputs": [],
   "source": [
    "test_img = Image.open(r'/home/migbernardo/Desktop/eurosat/data/regular/River/River_10.jpg')"
   ]
  },
  {
   "cell_type": "code",
   "execution_count": 5,
   "id": "interim-ballet",
   "metadata": {},
   "outputs": [
    {
     "data": {
      "image/png": "[encoded data removed]",
      "text/plain": [
       "<PIL.JpegImagePlugin.JpegImageFile image mode=RGB size=64x64 at 0x7FDFDF735F10>"
      ]
     },
     "execution_count": 5,
     "metadata": {},
     "output_type": "execute_result"
    }
   ],
   "source": [
    "test_img"
   ]
  },
  {
   "cell_type": "code",
   "execution_count": 6,
   "id": "improved-mountain",
   "metadata": {},
   "outputs": [
    {
     "data": {
      "text/plain": [
       "'RGB'"
      ]
     },
     "execution_count": 6,
     "metadata": {},
     "output_type": "execute_result"
    }
   ],
   "source": [
    "test_img.mode"
   ]
  },
  {
   "cell_type": "code",
   "execution_count": 7,
   "id": "looking-aruba",
   "metadata": {},
   "outputs": [
    {
     "data": {
      "text/plain": [
       "(64, 64)"
      ]
     },
     "execution_count": 7,
     "metadata": {},
     "output_type": "execute_result"
    }
   ],
   "source": [
    "test_img.size"
   ]
  },
  {
   "cell_type": "code",
   "execution_count": 8,
   "id": "sweet-refund",
   "metadata": {},
   "outputs": [],
   "source": [
    "test_img_arr = np.array(test_img)"
   ]
  },
  {
   "cell_type": "code",
   "execution_count": 9,
   "id": "narrow-blond",
   "metadata": {},
   "outputs": [
    {
     "data": {
      "text/plain": [
       "array([[[35, 55, 79],\n",
       "        [37, 54, 80],\n",
       "        [37, 54, 80],\n",
       "        ...,\n",
       "        [43, 64, 81],\n",
       "        [55, 71, 87],\n",
       "        [68, 77, 94]],\n",
       "\n",
       "       [[34, 56, 77],\n",
       "        [34, 56, 79],\n",
       "        [35, 55, 80],\n",
       "        ...,\n",
       "        [45, 64, 81],\n",
       "        [57, 70, 86],\n",
       "        [69, 76, 92]],\n",
       "\n",
       "       [[43, 69, 82],\n",
       "        [43, 69, 86],\n",
       "        [41, 63, 84],\n",
       "        ...,\n",
       "        [47, 66, 83],\n",
       "        [58, 70, 86],\n",
       "        [73, 80, 96]],\n",
       "\n",
       "       ...,\n",
       "\n",
       "       [[38, 64, 79],\n",
       "        [38, 63, 83],\n",
       "        [39, 61, 84],\n",
       "        ...,\n",
       "        [62, 85, 91],\n",
       "        [51, 71, 80],\n",
       "        [56, 73, 89]],\n",
       "\n",
       "       [[37, 62, 82],\n",
       "        [36, 61, 83],\n",
       "        [39, 61, 84],\n",
       "        ...,\n",
       "        [59, 86, 93],\n",
       "        [54, 81, 90],\n",
       "        [54, 81, 92]],\n",
       "\n",
       "       [[37, 61, 85],\n",
       "        [39, 61, 85],\n",
       "        [40, 62, 85],\n",
       "        ...,\n",
       "        [53, 83, 91],\n",
       "        [48, 81, 88],\n",
       "        [40, 75, 81]]], dtype=uint8)"
      ]
     },
     "execution_count": 9,
     "metadata": {},
     "output_type": "execute_result"
    }
   ],
   "source": [
    "test_img_arr"
   ]
  },
  {
   "cell_type": "code",
   "execution_count": 10,
   "id": "welsh-trouble",
   "metadata": {},
   "outputs": [
    {
     "data": {
      "text/plain": [
       "(64, 64, 3)"
      ]
     },
     "execution_count": 10,
     "metadata": {},
     "output_type": "execute_result"
    }
   ],
   "source": [
    "test_img_arr.shape"
   ]
  },
  {
   "cell_type": "markdown",
   "id": "addressed-figure",
   "metadata": {},
   "source": [
    "Input: tensor (batch_size, 64, 64, 3)"
   ]
  },
  {
   "cell_type": "markdown",
   "id": "pleasant-communist",
   "metadata": {},
   "source": [
    "The RGB channel values are in the [0, 255] range. This is not ideal for a neural network; in general you should seek to make your input values small."
   ]
  },
  {
   "cell_type": "code",
   "execution_count": 11,
   "id": "integral-satellite",
   "metadata": {},
   "outputs": [
    {
     "data": {
      "text/plain": [
       "array([[[0.1372549 , 0.21568627, 0.30980392],\n",
       "        [0.14509804, 0.21176471, 0.31372549],\n",
       "        [0.14509804, 0.21176471, 0.31372549],\n",
       "        ...,\n",
       "        [0.16862745, 0.25098039, 0.31764706],\n",
       "        [0.21568627, 0.27843137, 0.34117647],\n",
       "        [0.26666667, 0.30196078, 0.36862745]],\n",
       "\n",
       "       [[0.13333333, 0.21960784, 0.30196078],\n",
       "        [0.13333333, 0.21960784, 0.30980392],\n",
       "        [0.1372549 , 0.21568627, 0.31372549],\n",
       "        ...,\n",
       "        [0.17647059, 0.25098039, 0.31764706],\n",
       "        [0.22352941, 0.2745098 , 0.3372549 ],\n",
       "        [0.27058824, 0.29803922, 0.36078431]],\n",
       "\n",
       "       [[0.16862745, 0.27058824, 0.32156863],\n",
       "        [0.16862745, 0.27058824, 0.3372549 ],\n",
       "        [0.16078431, 0.24705882, 0.32941176],\n",
       "        ...,\n",
       "        [0.18431373, 0.25882353, 0.3254902 ],\n",
       "        [0.22745098, 0.2745098 , 0.3372549 ],\n",
       "        [0.28627451, 0.31372549, 0.37647059]],\n",
       "\n",
       "       ...,\n",
       "\n",
       "       [[0.14901961, 0.25098039, 0.30980392],\n",
       "        [0.14901961, 0.24705882, 0.3254902 ],\n",
       "        [0.15294118, 0.23921569, 0.32941176],\n",
       "        ...,\n",
       "        [0.24313725, 0.33333333, 0.35686275],\n",
       "        [0.2       , 0.27843137, 0.31372549],\n",
       "        [0.21960784, 0.28627451, 0.34901961]],\n",
       "\n",
       "       [[0.14509804, 0.24313725, 0.32156863],\n",
       "        [0.14117647, 0.23921569, 0.3254902 ],\n",
       "        [0.15294118, 0.23921569, 0.32941176],\n",
       "        ...,\n",
       "        [0.23137255, 0.3372549 , 0.36470588],\n",
       "        [0.21176471, 0.31764706, 0.35294118],\n",
       "        [0.21176471, 0.31764706, 0.36078431]],\n",
       "\n",
       "       [[0.14509804, 0.23921569, 0.33333333],\n",
       "        [0.15294118, 0.23921569, 0.33333333],\n",
       "        [0.15686275, 0.24313725, 0.33333333],\n",
       "        ...,\n",
       "        [0.20784314, 0.3254902 , 0.35686275],\n",
       "        [0.18823529, 0.31764706, 0.34509804],\n",
       "        [0.15686275, 0.29411765, 0.31764706]]])"
      ]
     },
     "execution_count": 11,
     "metadata": {},
     "output_type": "execute_result"
    }
   ],
   "source": [
    "# scalling\n",
    "(1/255) * test_img_arr"
   ]
  },
  {
   "cell_type": "code",
   "execution_count": 12,
   "id": "polished-great",
   "metadata": {},
   "outputs": [],
   "source": [
    "def load_img(num_img): \n",
    "    data = np.zeros(shape=[num_img,64,64,3])\n",
    "    for i in range(1, num_img + 1):  \n",
    "        img = Image.open(r'/home/migbernardo/Desktop/eurosat/data/regular/River/River_{}.jpg'.format(i)) \n",
    "        img_arr = np.array(img) \n",
    "        data[i-1][:64][:64][:64] = img_arr  \n",
    "    return data"
   ]
  },
  {
   "cell_type": "code",
   "execution_count": 13,
   "id": "respective-feeling",
   "metadata": {},
   "outputs": [],
   "source": [
    "targets = 8 * np.ones(2500)"
   ]
  },
  {
   "cell_type": "code",
   "execution_count": 14,
   "id": "crude-category",
   "metadata": {},
   "outputs": [
    {
     "data": {
      "text/plain": [
       "array([8., 8., 8., ..., 8., 8., 8.])"
      ]
     },
     "execution_count": 14,
     "metadata": {},
     "output_type": "execute_result"
    }
   ],
   "source": [
    "targets"
   ]
  },
  {
   "cell_type": "code",
   "execution_count": 15,
   "id": "recreational-black",
   "metadata": {},
   "outputs": [],
   "source": [
    "data2 = load_img(2500)"
   ]
  },
  {
   "cell_type": "code",
   "execution_count": 16,
   "id": "military-reynolds",
   "metadata": {},
   "outputs": [
    {
     "data": {
      "text/plain": [
       "(2500, 64, 64, 3)"
      ]
     },
     "execution_count": 16,
     "metadata": {},
     "output_type": "execute_result"
    }
   ],
   "source": [
    "data2.shape"
   ]
  },
  {
   "cell_type": "code",
   "execution_count": 17,
   "id": "sitting-student",
   "metadata": {},
   "outputs": [],
   "source": [
    "data = np.zeros(shape=[2,64,64,3])\n",
    "for i in range(1,3):  \n",
    "    img = Image.open(r'/home/migbernardo/Desktop/eurosat/data/regular/River/River_{}.jpg'.format(i)) \n",
    "    img_arr = np.array(img) \n",
    "    data[i-1][:64][:64][:64] = img_arr"
   ]
  },
  {
   "cell_type": "code",
   "execution_count": 18,
   "id": "chubby-mounting",
   "metadata": {},
   "outputs": [
    {
     "data": {
      "text/plain": [
       "array([[[ 38.,  59.,  78.],\n",
       "        [ 37.,  59.,  80.],\n",
       "        [ 39.,  65.,  82.],\n",
       "        ...,\n",
       "        [ 39.,  65.,  80.],\n",
       "        [ 41.,  64.,  78.],\n",
       "        [ 42.,  64.,  78.]],\n",
       "\n",
       "       [[ 36.,  59.,  75.],\n",
       "        [ 37.,  60.,  76.],\n",
       "        [ 41.,  64.,  82.],\n",
       "        ...,\n",
       "        [ 40.,  66.,  79.],\n",
       "        [ 41.,  64.,  78.],\n",
       "        [ 42.,  64.,  78.]],\n",
       "\n",
       "       [[ 48.,  75.,  86.],\n",
       "        [ 47.,  73.,  86.],\n",
       "        [ 42.,  68.,  83.],\n",
       "        ...,\n",
       "        [ 42.,  68.,  81.],\n",
       "        [ 44.,  67.,  81.],\n",
       "        [ 47.,  66.,  81.]],\n",
       "\n",
       "       ...,\n",
       "\n",
       "       [[ 79.,  86.,  94.],\n",
       "        [ 78.,  87.,  96.],\n",
       "        [ 71.,  85.,  96.],\n",
       "        ...,\n",
       "        [ 59.,  94., 100.],\n",
       "        [ 61.,  96., 102.],\n",
       "        [ 61.,  96., 102.]],\n",
       "\n",
       "       [[ 54.,  70.,  83.],\n",
       "        [ 54.,  70.,  83.],\n",
       "        [ 56.,  75.,  89.],\n",
       "        ...,\n",
       "        [ 60.,  95., 101.],\n",
       "        [ 61.,  96., 102.],\n",
       "        [ 61.,  96., 102.]],\n",
       "\n",
       "       [[ 39.,  67.,  79.],\n",
       "        [ 40.,  66.,  79.],\n",
       "        [ 41.,  64.,  78.],\n",
       "        ...,\n",
       "        [ 60.,  94., 103.],\n",
       "        [ 58.,  95., 103.],\n",
       "        [ 60.,  95., 101.]]])"
      ]
     },
     "execution_count": 18,
     "metadata": {},
     "output_type": "execute_result"
    }
   ],
   "source": [
    "data[1][:64][:64][:64]"
   ]
  }
 ],
 "metadata": {
  "kernelspec": {
   "display_name": "Python 3 (ipykernel)",
   "language": "python",
   "name": "python3"
  },
  "language_info": {
   "codemirror_mode": {
    "name": "ipython",
    "version": 3
   },
   "file_extension": ".py",
   "mimetype": "text/x-python",
   "name": "python",
   "nbconvert_exporter": "python",
   "pygments_lexer": "ipython3",
   "version": "3.9.7"
  }
 },
 "nbformat": 4,
 "nbformat_minor": 5
}
