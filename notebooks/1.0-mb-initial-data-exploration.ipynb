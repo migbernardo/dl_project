{
 "cells": [
  {
   "cell_type": "code",
   "execution_count": 3,
   "id": "66f2dbc5",
   "metadata": {},
   "outputs": [],
   "source": [
    "dst_path = os.path.join(os.path.abspath(os.path.join(os.path.abspath(os.curdir), os.pardir)), 'data', 'raw')"
   ]
  },
  {
   "cell_type": "code",
   "execution_count": 4,
   "id": "e08b2ae1",
   "metadata": {},
   "outputs": [
    {
     "data": {
      "text/plain": [
       "'/media/migbernardo/Data/nova_ims/dl/dl_project/data/raw'"
      ]
     },
     "execution_count": 4,
     "metadata": {},
     "output_type": "execute_result"
    }
   ],
   "source": [
    "dst_path"
   ]
  },
  {
   "cell_type": "code",
   "execution_count": 5,
   "id": "mexican-uncle",
   "metadata": {},
   "outputs": [
    {
     "data": {
      "text/plain": [
       "['Pasture',\n",
       " 'HerbaceousVegetation',\n",
       " 'Forest',\n",
       " 'PermanentCrop',\n",
       " 'River',\n",
       " 'Residential',\n",
       " 'Highway',\n",
       " 'SeaLake',\n",
       " 'Industrial',\n",
       " 'AnnualCrop']"
      ]
     },
     "execution_count": 5,
     "metadata": {},
     "output_type": "execute_result"
    }
   ],
   "source": [
    "# categories\n",
    "os.listdir(dst_path)"
   ]
  },
  {
   "cell_type": "code",
   "execution_count": 6,
   "id": "framed-nigeria",
   "metadata": {},
   "outputs": [
    {
     "data": {
      "image/png": "[encoded data removed]",
      "text/plain": [
       "<PIL.JpegImagePlugin.JpegImageFile image mode=RGB size=64x64 at 0x7F0A4A67BAF0>"
      ]
     },
     "execution_count": 6,
     "metadata": {},
     "output_type": "execute_result"
    }
   ],
   "source": [
    "test_img = Image.open(os.path.join(dst_path, 'River', 'River_1.jpg')) \n",
    "test_img"
   ]
  },
  {
   "cell_type": "code",
   "execution_count": 7,
   "id": "improved-mountain",
   "metadata": {},
   "outputs": [
    {
     "data": {
      "text/plain": [
       "'RGB'"
      ]
     },
     "execution_count": 7,
     "metadata": {},
     "output_type": "execute_result"
    }
   ],
   "source": [
    "test_img.mode"
   ]
  },
  {
   "cell_type": "code",
   "execution_count": 8,
   "id": "looking-aruba",
   "metadata": {
    "scrolled": true
   },
   "outputs": [
    {
     "data": {
      "text/plain": [
       "(64, 64)"
      ]
     },
     "execution_count": 8,
     "metadata": {},
     "output_type": "execute_result"
    }
   ],
   "source": [
    "test_img.size"
   ]
  },
  {
   "cell_type": "code",
   "execution_count": 9,
   "id": "sweet-refund",
   "metadata": {},
   "outputs": [
    {
     "data": {
      "text/plain": [
       "array([[[110, 116, 114],\n",
       "        [113, 115, 114],\n",
       "        [102, 100, 101],\n",
       "        ...,\n",
       "        [ 75,  86,  88],\n",
       "        [ 80,  89,  94],\n",
       "        [ 82,  89,  97]],\n",
       "\n",
       "       [[110, 116, 114],\n",
       "        [113, 115, 114],\n",
       "        [101, 101, 101],\n",
       "        ...,\n",
       "        [ 75,  86,  88],\n",
       "        [ 78,  89,  93],\n",
       "        [ 80,  89,  94]],\n",
       "\n",
       "       [[105, 114, 109],\n",
       "        [110, 112, 111],\n",
       "        [ 99,  99, 101],\n",
       "        ...,\n",
       "        [ 74,  88,  91],\n",
       "        [ 77,  88,  92],\n",
       "        [ 77,  88,  92]],\n",
       "\n",
       "       ...,\n",
       "\n",
       "       [[ 48,  67,  82],\n",
       "        [ 48,  67,  84],\n",
       "        [ 47,  66,  83],\n",
       "        ...,\n",
       "        [ 54,  82,  83],\n",
       "        [ 56,  81,  85],\n",
       "        [ 60,  81,  86]],\n",
       "\n",
       "       [[ 45,  67,  81],\n",
       "        [ 47,  66,  81],\n",
       "        [ 46,  65,  80],\n",
       "        ...,\n",
       "        [ 54,  82,  83],\n",
       "        [ 58,  82,  84],\n",
       "        [ 62,  83,  86]],\n",
       "\n",
       "       [[ 43,  66,  80],\n",
       "        [ 44,  66,  80],\n",
       "        [ 45,  64,  79],\n",
       "        ...,\n",
       "        [ 55,  81,  80],\n",
       "        [ 61,  83,  81],\n",
       "        [ 67,  86,  84]]], dtype=uint8)"
      ]
     },
     "execution_count": 9,
     "metadata": {},
     "output_type": "execute_result"
    }
   ],
   "source": [
    "test_img_arr = np.array(test_img)\n",
    "test_img_arr"
   ]
  },
  {
   "cell_type": "markdown",
   "id": "bd0f1f0f",
   "metadata": {},
   "source": [
    "- Each 64x64 picture has 3 RGB channels and its represented by a (64, 64, 3) tensor \n",
    "- The network has to be fed in batches, receiving as input a tensor with (batch_size, 64, 64, 3) dimensions \n",
    "- The RGB channel values are in the [0, 255] range. This is not ideal for a neural network; in general one should use small input values to get faster convergence, thus reducing training time"
   ]
  },
  {
   "cell_type": "code",
   "execution_count": 10,
   "id": "welsh-trouble",
   "metadata": {},
   "outputs": [
    {
     "data": {
      "text/plain": [
       "(64, 64, 3)"
      ]
     },
     "execution_count": 10,
     "metadata": {},
     "output_type": "execute_result"
    }
   ],
   "source": [
    "test_img_arr.shape"
   ]
  },
  {
   "cell_type": "markdown",
   "id": "8eca703c",
   "metadata": {},
   "source": [
    "For now, a simple scalar multiplication is used to scale the pictures."
   ]
  },
  {
   "cell_type": "code",
   "execution_count": 11,
   "id": "integral-satellite",
   "metadata": {},
   "outputs": [
    {
     "data": {
      "text/plain": [
       "array([[[0.43137255, 0.45490196, 0.44705882],\n",
       "        [0.44313725, 0.45098039, 0.44705882],\n",
       "        [0.4       , 0.39215686, 0.39607843],\n",
       "        ...,\n",
       "        [0.29411765, 0.3372549 , 0.34509804],\n",
       "        [0.31372549, 0.34901961, 0.36862745],\n",
       "        [0.32156863, 0.34901961, 0.38039216]],\n",
       "\n",
       "       [[0.43137255, 0.45490196, 0.44705882],\n",
       "        [0.44313725, 0.45098039, 0.44705882],\n",
       "        [0.39607843, 0.39607843, 0.39607843],\n",
       "        ...,\n",
       "        [0.29411765, 0.3372549 , 0.34509804],\n",
       "        [0.30588235, 0.34901961, 0.36470588],\n",
       "        [0.31372549, 0.34901961, 0.36862745]],\n",
       "\n",
       "       [[0.41176471, 0.44705882, 0.42745098],\n",
       "        [0.43137255, 0.43921569, 0.43529412],\n",
       "        [0.38823529, 0.38823529, 0.39607843],\n",
       "        ...,\n",
       "        [0.29019608, 0.34509804, 0.35686275],\n",
       "        [0.30196078, 0.34509804, 0.36078431],\n",
       "        [0.30196078, 0.34509804, 0.36078431]],\n",
       "\n",
       "       ...,\n",
       "\n",
       "       [[0.18823529, 0.2627451 , 0.32156863],\n",
       "        [0.18823529, 0.2627451 , 0.32941176],\n",
       "        [0.18431373, 0.25882353, 0.3254902 ],\n",
       "        ...,\n",
       "        [0.21176471, 0.32156863, 0.3254902 ],\n",
       "        [0.21960784, 0.31764706, 0.33333333],\n",
       "        [0.23529412, 0.31764706, 0.3372549 ]],\n",
       "\n",
       "       [[0.17647059, 0.2627451 , 0.31764706],\n",
       "        [0.18431373, 0.25882353, 0.31764706],\n",
       "        [0.18039216, 0.25490196, 0.31372549],\n",
       "        ...,\n",
       "        [0.21176471, 0.32156863, 0.3254902 ],\n",
       "        [0.22745098, 0.32156863, 0.32941176],\n",
       "        [0.24313725, 0.3254902 , 0.3372549 ]],\n",
       "\n",
       "       [[0.16862745, 0.25882353, 0.31372549],\n",
       "        [0.17254902, 0.25882353, 0.31372549],\n",
       "        [0.17647059, 0.25098039, 0.30980392],\n",
       "        ...,\n",
       "        [0.21568627, 0.31764706, 0.31372549],\n",
       "        [0.23921569, 0.3254902 , 0.31764706],\n",
       "        [0.2627451 , 0.3372549 , 0.32941176]]])"
      ]
     },
     "execution_count": 11,
     "metadata": {},
     "output_type": "execute_result"
    }
   ],
   "source": [
    "(1/255) * test_img_arr"
   ]
  },
  {
   "cell_type": "markdown",
   "id": "093b7a89",
   "metadata": {},
   "source": [
    "The function creates a tensor with the desired dimensions full of zeros, then they are replaced by each picture's RGB values"
   ]
  },
  {
   "cell_type": "code",
   "execution_count": 12,
   "id": "polished-great",
   "metadata": {},
   "outputs": [],
   "source": [
    "def merge_img(num_img): \n",
    "    data = np.zeros(shape=[num_img,64,64,3])\n",
    "    for i in range(1, num_img + 1):   \n",
    "        img = Image.open(os.path.join(dst_path, 'River', 'River_{}.jpg'.format(i))) \n",
    "        img_arr = np.array(img) \n",
    "        data[i-1][:64][:64][:64] = img_arr  \n",
    "    return data"
   ]
  },
  {
   "cell_type": "code",
   "execution_count": 13,
   "id": "4c52f706",
   "metadata": {},
   "outputs": [],
   "source": [
    "data = merge_img(2500)"
   ]
  },
  {
   "cell_type": "code",
   "execution_count": 14,
   "id": "be625ade",
   "metadata": {},
   "outputs": [
    {
     "data": {
      "text/plain": [
       "(2500, 64, 64, 3)"
      ]
     },
     "execution_count": 14,
     "metadata": {},
     "output_type": "execute_result"
    }
   ],
   "source": [
    "data.shape"
   ]
  },
  {
   "cell_type": "markdown",
   "id": "e006a6d3",
   "metadata": {},
   "source": [
    "The labels are represented by a 2D vector, encoded with the category number. Similiar function is used to create the vector"
   ]
  },
  {
   "cell_type": "code",
   "execution_count": 15,
   "id": "pharmaceutical-timothy",
   "metadata": {},
   "outputs": [],
   "source": [
    "def label_encoder(num_img, index): \n",
    "    data = np.zeros(shape=[num_img,10])\n",
    "    for i in range(1, num_img + 1):    \n",
    "        label_arr = np.zeros(10) \n",
    "        np.put(label_arr, index, 1)\n",
    "        data[i-1] = label_arr  \n",
    "    return data"
   ]
  },
  {
   "cell_type": "code",
   "execution_count": 16,
   "id": "integrated-bahrain",
   "metadata": {},
   "outputs": [
    {
     "data": {
      "text/plain": [
       "array([[0., 0., 0., ..., 0., 1., 0.],\n",
       "       [0., 0., 0., ..., 0., 1., 0.],\n",
       "       [0., 0., 0., ..., 0., 1., 0.],\n",
       "       ...,\n",
       "       [0., 0., 0., ..., 0., 1., 0.],\n",
       "       [0., 0., 0., ..., 0., 1., 0.],\n",
       "       [0., 0., 0., ..., 0., 1., 0.]])"
      ]
     },
     "execution_count": 16,
     "metadata": {},
     "output_type": "execute_result"
    }
   ],
   "source": [
    "label_encoder(2500, 8)"
   ]
  }
 ],
 "metadata": {
  "kernelspec": {
   "display_name": "Python 3",
   "language": "python",
   "name": "python3"
  },
  "language_info": {
   "codemirror_mode": {
    "name": "ipython",
    "version": 3
   },
   "file_extension": ".py",
   "mimetype": "text/x-python",
   "name": "python",
   "nbconvert_exporter": "python",
   "pygments_lexer": "ipython3",
   "version": "3.9.7"
  }
 },
 "nbformat": 4,
 "nbformat_minor": 5
}
