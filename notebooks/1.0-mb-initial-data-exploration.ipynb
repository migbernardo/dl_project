{
 "cells": [
  {
   "cell_type": "code",
   "execution_count": 1,
   "id": "sticky-recorder",
   "metadata": {},
   "outputs": [],
   "source": [
    "from PIL import Image \n",
    "import os \n",
    "import numpy as np "
   ]
  },
  {
   "cell_type": "code",
   "execution_count": 2,
   "id": "66f2dbc5",
   "metadata": {},
   "outputs": [],
   "source": [
    "dst_path = os.path.join(os.path.abspath(os.path.join(os.path.abspath(os.curdir), os.pardir)), 'data', 'raw')"
   ]
  },
  {
   "cell_type": "code",
   "execution_count": 3,
   "id": "e08b2ae1",
   "metadata": {},
   "outputs": [
    {
     "data": {
      "text/plain": [
       "'D:\\\\data_analyst\\\\nova_ims\\\\dl\\\\dl_project\\\\data\\\\raw'"
      ]
     },
     "execution_count": 3,
     "metadata": {},
     "output_type": "execute_result"
    }
   ],
   "source": [
    "dst_path"
   ]
  },
  {
   "cell_type": "code",
   "execution_count": 4,
   "id": "mexican-uncle",
   "metadata": {},
   "outputs": [
    {
     "data": {
      "text/plain": [
       "['AnnualCrop',\n",
       " 'Forest',\n",
       " 'HerbaceousVegetation',\n",
       " 'Highway',\n",
       " 'Industrial',\n",
       " 'Pasture',\n",
       " 'PermanentCrop',\n",
       " 'Residential',\n",
       " 'River',\n",
       " 'SeaLake']"
      ]
     },
     "execution_count": 4,
     "metadata": {},
     "output_type": "execute_result"
    }
   ],
   "source": [
    "# categories\n",
    "os.listdir(dst_path)"
   ]
  },
  {
   "cell_type": "code",
   "execution_count": 5,
   "id": "framed-nigeria",
   "metadata": {},
   "outputs": [
    {
     "data": {
      "image/png": "[encoded data removed]",
      "text/plain": [
       "<PIL.JpegImagePlugin.JpegImageFile image mode=RGB size=64x64 at 0x21A523B81F0>"
      ]
     },
     "execution_count": 5,
     "metadata": {},
     "output_type": "execute_result"
    }
   ],
   "source": [
    "test_img = Image.open(os.path.join(dst_path, 'River', 'River_1.jpg')) \n",
    "test_img"
   ]
  },
  {
   "cell_type": "code",
   "execution_count": 6,
   "id": "improved-mountain",
   "metadata": {},
   "outputs": [
    {
     "data": {
      "text/plain": [
       "'RGB'"
      ]
     },
     "execution_count": 6,
     "metadata": {},
     "output_type": "execute_result"
    }
   ],
   "source": [
    "test_img.mode"
   ]
  },
  {
   "cell_type": "code",
   "execution_count": 7,
   "id": "looking-aruba",
   "metadata": {
    "scrolled": true
   },
   "outputs": [
    {
     "data": {
      "text/plain": [
       "(64, 64)"
      ]
     },
     "execution_count": 7,
     "metadata": {},
     "output_type": "execute_result"
    }
   ],
   "source": [
    "test_img.size"
   ]
  },
  {
   "cell_type": "code",
   "execution_count": 8,
   "id": "sweet-refund",
   "metadata": {},
   "outputs": [
    {
     "data": {
      "text/plain": [
       "array([[[111, 115, 114],\n",
       "        [111, 115, 114],\n",
       "        [101, 101, 101],\n",
       "        ...,\n",
       "        [ 75,  86,  88],\n",
       "        [ 80,  89,  94],\n",
       "        [ 81,  90,  95]],\n",
       "\n",
       "       [[111, 115, 114],\n",
       "        [111, 115, 114],\n",
       "        [100, 102, 101],\n",
       "        ...,\n",
       "        [ 75,  86,  88],\n",
       "        [ 79,  88,  93],\n",
       "        [ 80,  89,  94]],\n",
       "\n",
       "       [[107, 113, 111],\n",
       "        [108, 112, 111],\n",
       "        [ 98, 100,  99],\n",
       "        ...,\n",
       "        [ 74,  88,  91],\n",
       "        [ 77,  88,  92],\n",
       "        [ 77,  88,  92]],\n",
       "\n",
       "       ...,\n",
       "\n",
       "       [[ 46,  68,  82],\n",
       "        [ 46,  68,  82],\n",
       "        [ 47,  66,  81],\n",
       "        ...,\n",
       "        [ 56,  82,  83],\n",
       "        [ 57,  81,  83],\n",
       "        [ 58,  82,  84]],\n",
       "\n",
       "       [[ 45,  67,  81],\n",
       "        [ 45,  67,  81],\n",
       "        [ 46,  65,  80],\n",
       "        ...,\n",
       "        [ 56,  82,  83],\n",
       "        [ 58,  82,  82],\n",
       "        [ 62,  83,  84]],\n",
       "\n",
       "       [[ 44,  66,  80],\n",
       "        [ 44,  66,  80],\n",
       "        [ 45,  64,  79],\n",
       "        ...,\n",
       "        [ 55,  81,  82],\n",
       "        [ 59,  83,  83],\n",
       "        [ 65,  86,  87]]], dtype=uint8)"
      ]
     },
     "execution_count": 8,
     "metadata": {},
     "output_type": "execute_result"
    }
   ],
   "source": [
    "test_img_arr = np.array(test_img)\n",
    "test_img_arr"
   ]
  },
  {
   "cell_type": "markdown",
   "id": "bd0f1f0f",
   "metadata": {},
   "source": [
    "- Each 64x64 picture has 3 RGB channels and its represented by a (64, 64, 3) tensor \n",
    "- The network has to be fed in batches, receiving as input a tensor with (batch_size, 64, 64, 3) dimensions \n",
    "- The RGB channel values are in the [0, 255] range. This is not ideal for a neural network; in general one should use small input values to get faster convergence, thus reducing training time"
   ]
  },
  {
   "cell_type": "code",
   "execution_count": 9,
   "id": "welsh-trouble",
   "metadata": {},
   "outputs": [
    {
     "data": {
      "text/plain": [
       "(64, 64, 3)"
      ]
     },
     "execution_count": 9,
     "metadata": {},
     "output_type": "execute_result"
    }
   ],
   "source": [
    "test_img_arr.shape"
   ]
  },
  {
   "cell_type": "markdown",
   "id": "8eca703c",
   "metadata": {},
   "source": [
    "For now, a simple scalar multiplication is used to scale the pictures."
   ]
  },
  {
   "cell_type": "code",
   "execution_count": 10,
   "id": "integral-satellite",
   "metadata": {},
   "outputs": [
    {
     "data": {
      "text/plain": [
       "array([[[0.43529412, 0.45098039, 0.44705882],\n",
       "        [0.43529412, 0.45098039, 0.44705882],\n",
       "        [0.39607843, 0.39607843, 0.39607843],\n",
       "        ...,\n",
       "        [0.29411765, 0.3372549 , 0.34509804],\n",
       "        [0.31372549, 0.34901961, 0.36862745],\n",
       "        [0.31764706, 0.35294118, 0.37254902]],\n",
       "\n",
       "       [[0.43529412, 0.45098039, 0.44705882],\n",
       "        [0.43529412, 0.45098039, 0.44705882],\n",
       "        [0.39215686, 0.4       , 0.39607843],\n",
       "        ...,\n",
       "        [0.29411765, 0.3372549 , 0.34509804],\n",
       "        [0.30980392, 0.34509804, 0.36470588],\n",
       "        [0.31372549, 0.34901961, 0.36862745]],\n",
       "\n",
       "       [[0.41960784, 0.44313725, 0.43529412],\n",
       "        [0.42352941, 0.43921569, 0.43529412],\n",
       "        [0.38431373, 0.39215686, 0.38823529],\n",
       "        ...,\n",
       "        [0.29019608, 0.34509804, 0.35686275],\n",
       "        [0.30196078, 0.34509804, 0.36078431],\n",
       "        [0.30196078, 0.34509804, 0.36078431]],\n",
       "\n",
       "       ...,\n",
       "\n",
       "       [[0.18039216, 0.26666667, 0.32156863],\n",
       "        [0.18039216, 0.26666667, 0.32156863],\n",
       "        [0.18431373, 0.25882353, 0.31764706],\n",
       "        ...,\n",
       "        [0.21960784, 0.32156863, 0.3254902 ],\n",
       "        [0.22352941, 0.31764706, 0.3254902 ],\n",
       "        [0.22745098, 0.32156863, 0.32941176]],\n",
       "\n",
       "       [[0.17647059, 0.2627451 , 0.31764706],\n",
       "        [0.17647059, 0.2627451 , 0.31764706],\n",
       "        [0.18039216, 0.25490196, 0.31372549],\n",
       "        ...,\n",
       "        [0.21960784, 0.32156863, 0.3254902 ],\n",
       "        [0.22745098, 0.32156863, 0.32156863],\n",
       "        [0.24313725, 0.3254902 , 0.32941176]],\n",
       "\n",
       "       [[0.17254902, 0.25882353, 0.31372549],\n",
       "        [0.17254902, 0.25882353, 0.31372549],\n",
       "        [0.17647059, 0.25098039, 0.30980392],\n",
       "        ...,\n",
       "        [0.21568627, 0.31764706, 0.32156863],\n",
       "        [0.23137255, 0.3254902 , 0.3254902 ],\n",
       "        [0.25490196, 0.3372549 , 0.34117647]]])"
      ]
     },
     "execution_count": 10,
     "metadata": {},
     "output_type": "execute_result"
    }
   ],
   "source": [
    "(1/255) * test_img_arr"
   ]
  },
  {
   "cell_type": "markdown",
   "id": "093b7a89",
   "metadata": {},
   "source": [
    "The function creates a tensor with the desired dimensions full of zeros, then they are replaced by each picture's RGB values"
   ]
  },
  {
   "cell_type": "code",
   "execution_count": 11,
   "id": "polished-great",
   "metadata": {},
   "outputs": [],
   "source": [
    "def merge_img(num_img): \n",
    "    data = np.zeros(shape=[num_img,64,64,3])\n",
    "    for i in range(1, num_img + 1):   \n",
    "        img = Image.open(os.path.join(dst_path, 'River', 'River_{}.jpg'.format(i))) \n",
    "        img_arr = np.array(img) \n",
    "        data[i-1][:64][:64][:64] = img_arr  \n",
    "    return data"
   ]
  },
  {
   "cell_type": "code",
   "execution_count": 12,
   "id": "4c52f706",
   "metadata": {},
   "outputs": [],
   "source": [
    "data = merge_img(2500)"
   ]
  },
  {
   "cell_type": "code",
   "execution_count": 13,
   "id": "be625ade",
   "metadata": {},
   "outputs": [
    {
     "data": {
      "text/plain": [
       "(2500, 64, 64, 3)"
      ]
     },
     "execution_count": 13,
     "metadata": {},
     "output_type": "execute_result"
    }
   ],
   "source": [
    "data.shape"
   ]
  },
  {
   "cell_type": "markdown",
   "id": "e006a6d3",
   "metadata": {},
   "source": [
    "The labels are represented by a 1D vector, encoded with the category number"
   ]
  },
  {
   "cell_type": "code",
   "execution_count": 14,
   "id": "respective-feeling",
   "metadata": {},
   "outputs": [],
   "source": [
    "targets = 8 * np.ones(2500)"
   ]
  },
  {
   "cell_type": "code",
   "execution_count": 15,
   "id": "crude-category",
   "metadata": {},
   "outputs": [
    {
     "data": {
      "text/plain": [
       "(2500,)"
      ]
     },
     "execution_count": 15,
     "metadata": {},
     "output_type": "execute_result"
    }
   ],
   "source": [
    "targets.shape"
   ]
  }
 ],
 "metadata": {
  "kernelspec": {
   "display_name": "Python 3 (ipykernel)",
   "language": "python",
   "name": "python3"
  },
  "language_info": {
   "codemirror_mode": {
    "name": "ipython",
    "version": 3
   },
   "file_extension": ".py",
   "mimetype": "text/x-python",
   "name": "python",
   "nbconvert_exporter": "python",
   "pygments_lexer": "ipython3",
   "version": "3.9.7"
  }
 },
 "nbformat": 4,
 "nbformat_minor": 5
}
