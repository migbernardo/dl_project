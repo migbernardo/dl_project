{
 "cells": [
  {
   "cell_type": "code",
   "execution_count": 1,
   "id": "conservative-northwest",
   "metadata": {},
   "outputs": [],
   "source": [
    "import sys\n",
    "sys.path.append('/home/migbernardo/anaconda3/envs/keras/lib/python3.9/site-packages') "
   ]
  },
  {
   "cell_type": "code",
   "execution_count": 2,
   "id": "meaning-payroll",
   "metadata": {},
   "outputs": [],
   "source": [
    "import os \n",
    "import pickle\n",
    "from tensorflow import keras"
   ]
  },
  {
   "cell_type": "code",
   "execution_count": 3,
   "id": "helpful-perception",
   "metadata": {},
   "outputs": [],
   "source": [
    "os.chdir(os.path.abspath(os.path.join(os.path.abspath(os.curdir), os.pardir, 'data', 'processed')))"
   ]
  },
  {
   "cell_type": "code",
   "execution_count": 4,
   "id": "chronic-albert",
   "metadata": {},
   "outputs": [],
   "source": [
    "def read_data(name):\n",
    "    with open(name, 'rb') as f:\n",
    "        return pickle.load(f)"
   ]
  },
  {
   "cell_type": "code",
   "execution_count": 5,
   "id": "danish-sucking",
   "metadata": {},
   "outputs": [],
   "source": [
    "X_train = read_data('X_train.pickle')\n",
    "y_train = read_data('y_train.pickle')\n",
    "X_val = read_data('X_val.pickle')\n",
    "y_val = read_data('y_val.pickle')"
   ]
  },
  {
   "cell_type": "code",
   "execution_count": 6,
   "id": "1fa112f1",
   "metadata": {},
   "outputs": [],
   "source": [
    "datagen = keras.preprocessing.image.ImageDataGenerator(horizontal_flip=True,\n",
    "                                                       zoom_range=0.2,\n",
    "                                                       shear_range=0.2\n",
    "                                                       )\n",
    "aug = datagen.flow(x=X_train, y=y_train, batch_size=1, shuffle=True, seed=1)"
   ]
  },
  {
   "cell_type": "code",
   "execution_count": 8,
   "id": "sexual-burton",
   "metadata": {},
   "outputs": [
    {
     "data": {
      "text/plain": [
       "array([[[[0.28950253, 0.36724034, 0.3593972 ],\n",
       "         [0.26534188, 0.33610964, 0.33934444],\n",
       "         [0.22410916, 0.2833013 , 0.3124274 ],\n",
       "         ...,\n",
       "         [0.15787026, 0.28594437, 0.30471495],\n",
       "         [0.15757957, 0.2842241 , 0.30463278],\n",
       "         [0.15860566, 0.28569356, 0.30588236]],\n",
       "\n",
       "        [[0.28632462, 0.3608845 , 0.35304135],\n",
       "         [0.27795133, 0.35080364, 0.35272282],\n",
       "         [0.26596007, 0.33468595, 0.36063412],\n",
       "         ...,\n",
       "         [0.17626485, 0.28026146, 0.30288294],\n",
       "         [0.16949205, 0.28104618, 0.30582216],\n",
       "         [0.16813944, 0.28251562, 0.30588236]],\n",
       "\n",
       "        [[0.30191374, 0.3514008 , 0.35606903],\n",
       "         [0.27696356, 0.33519462, 0.34183168],\n",
       "         [0.243028  , 0.32140312, 0.33562726],\n",
       "         ...,\n",
       "         [0.2293406 , 0.30441186, 0.31816965],\n",
       "         [0.1896969 , 0.289566  , 0.30739987],\n",
       "         [0.18370372, 0.29441395, 0.31191286]],\n",
       "\n",
       "        ...,\n",
       "\n",
       "        [[0.39760998, 0.41703236, 0.46972975],\n",
       "         [0.34409875, 0.37172052, 0.41883248],\n",
       "         [0.26571876, 0.3134413 , 0.34755287],\n",
       "         ...,\n",
       "         [0.2779641 , 0.3216408 , 0.36267477],\n",
       "         [0.3069369 , 0.31033337, 0.36453775],\n",
       "         [0.31725705, 0.30511487, 0.36457172]],\n",
       "\n",
       "        [[0.4290062 , 0.42595342, 0.48313054],\n",
       "         [0.35518056, 0.36895493, 0.4180165 ],\n",
       "         [0.2450135 , 0.29465693, 0.3257002 ],\n",
       "         ...,\n",
       "         [0.23999846, 0.2870118 , 0.33740935],\n",
       "         [0.2594317 , 0.27780598, 0.33448276],\n",
       "         [0.26684082, 0.27365586, 0.33333334]],\n",
       "\n",
       "        [[0.480829  , 0.45368862, 0.5040769 ],\n",
       "         [0.39738327, 0.3953481 , 0.4383739 ],\n",
       "         [0.26018256, 0.3114723 , 0.33673236],\n",
       "         ...,\n",
       "         [0.2546403 , 0.2888703 , 0.34955224],\n",
       "         [0.26839823, 0.29356122, 0.34893975],\n",
       "         [0.27070504, 0.29265416, 0.34597582]]]], dtype=float32)"
      ]
     },
     "execution_count": 8,
     "metadata": {},
     "output_type": "execute_result"
    }
   ],
   "source": [
    "aug[0][0]"
   ]
  },
  {
   "cell_type": "code",
   "execution_count": 9,
   "id": "found-cocktail",
   "metadata": {},
   "outputs": [
    {
     "data": {
      "text/plain": [
       "(1, 64, 64, 3)"
      ]
     },
     "execution_count": 9,
     "metadata": {},
     "output_type": "execute_result"
    }
   ],
   "source": [
    "aug[0][0].shape"
   ]
  },
  {
   "cell_type": "code",
   "execution_count": 10,
   "id": "permanent-manual",
   "metadata": {},
   "outputs": [
    {
     "data": {
      "text/plain": [
       "array([[0., 0., 0., 0., 0., 0., 0., 1., 0., 0.]])"
      ]
     },
     "execution_count": 10,
     "metadata": {},
     "output_type": "execute_result"
    }
   ],
   "source": [
    "aug[0][1]"
   ]
  },
  {
   "cell_type": "code",
   "execution_count": 11,
   "id": "voluntary-sherman",
   "metadata": {},
   "outputs": [
    {
     "data": {
      "text/plain": [
       "(1, 10)"
      ]
     },
     "execution_count": 11,
     "metadata": {},
     "output_type": "execute_result"
    }
   ],
   "source": [
    "aug[0][1].shape"
   ]
  }
 ],
 "metadata": {
  "kernelspec": {
   "display_name": "Python 3",
   "language": "python",
   "name": "python3"
  },
  "language_info": {
   "codemirror_mode": {
    "name": "ipython",
    "version": 3
   },
   "file_extension": ".py",
   "mimetype": "text/x-python",
   "name": "python",
   "nbconvert_exporter": "python",
   "pygments_lexer": "ipython3",
   "version": "3.9.7"
  }
 },
 "nbformat": 4,
 "nbformat_minor": 5
}
