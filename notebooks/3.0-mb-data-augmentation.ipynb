{
 "cells": [
  {
   "cell_type": "code",
   "execution_count": null,
   "id": "1fa112f1",
   "metadata": {},
   "outputs": [],
   "source": [
    "datagen = keras.preprocessing.image.ImageDataGenerator(horizontal_flip=True,\n",
    "                                                       zoom_range=0.2,\n",
    "                                                       shear_range=0.2\n",
    "                                                       )\n",
    "aug = datagen.flow(x=X_train, y=y_train, batch_size=16, shuffle=True, seed=1)"
   ]
  }
 ],
 "metadata": {
  "kernelspec": {
   "display_name": "Python 3 (ipykernel)",
   "language": "python",
   "name": "python3"
  },
  "language_info": {
   "codemirror_mode": {
    "name": "ipython",
    "version": 3
   },
   "file_extension": ".py",
   "mimetype": "text/x-python",
   "name": "python",
   "nbconvert_exporter": "python",
   "pygments_lexer": "ipython3",
   "version": "3.9.7"
  }
 },
 "nbformat": 4,
 "nbformat_minor": 5
}
